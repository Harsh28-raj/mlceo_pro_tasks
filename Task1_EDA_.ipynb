{
  "cells": [
    {
      "cell_type": "markdown",
      "metadata": {
        "id": "view-in-github",
        "colab_type": "text"
      },
      "source": [
        "<a href=\"https://colab.research.google.com/github/Harsh28-raj/mlceo_pro_tasks/blob/main/Task1_EDA_.ipynb\" target=\"_parent\"><img src=\"https://colab.research.google.com/assets/colab-badge.svg\" alt=\"Open In Colab\"/></a>"
      ]
    },
    {
      "cell_type": "code",
      "execution_count": null,
      "metadata": {
        "id": "p-HPRXXp9rb8"
      },
      "outputs": [],
      "source": [
        "import pandas as pd\n",
        "import numpy as np\n",
        "import seaborn as sns\n",
        "import matplotlib.pyplot as plt"
      ]
    },
    {
      "cell_type": "code",
      "execution_count": null,
      "metadata": {
        "id": "g0Na9T-D-4ny"
      },
      "outputs": [],
      "source": [
        "df = pd.DataFrame(pd.read_csv(\"/content/student-scoreswith null (1).csv\"))"
      ]
    },
    {
      "cell_type": "code",
      "execution_count": null,
      "metadata": {
        "id": "ZjRASjI_BOmK"
      },
      "outputs": [],
      "source": [
        "df.shape"
      ]
    },
    {
      "cell_type": "code",
      "source": [
        "df.isnull().sum()"
      ],
      "metadata": {
        "id": "lvNAGcMR92L-"
      },
      "execution_count": null,
      "outputs": []
    },
    {
      "cell_type": "code",
      "source": [
        "df.info()"
      ],
      "metadata": {
        "id": "3tc0kecMRsFj"
      },
      "execution_count": null,
      "outputs": []
    },
    {
      "cell_type": "markdown",
      "source": [
        "changing dataype as required"
      ],
      "metadata": {
        "id": "VzNIc_MFhE_B"
      }
    },
    {
      "cell_type": "markdown",
      "source": [
        "by changing datatype we can reduce size and save memory"
      ],
      "metadata": {
        "id": "aDu4_JY88oj7"
      }
    },
    {
      "cell_type": "code",
      "source": [
        "df['part_time_job'] = df['part_time_job'].astype(bool)\n"
      ],
      "metadata": {
        "id": "Kej_cmvghIlY"
      },
      "execution_count": null,
      "outputs": []
    },
    {
      "cell_type": "code",
      "source": [
        "df.info()"
      ],
      "metadata": {
        "id": "rxZLyCUShVWQ"
      },
      "execution_count": null,
      "outputs": []
    },
    {
      "cell_type": "markdown",
      "source": [
        "if missing value presnt then i cannot change its type we have to fill the missing value first"
      ],
      "metadata": {
        "id": "lM0Q3Sb_ikkb"
      }
    },
    {
      "cell_type": "markdown",
      "source": [
        "replaced all missing value of weekly_self_study_hours  with mean"
      ],
      "metadata": {
        "id": "6WeBeBEL9jwd"
      }
    },
    {
      "cell_type": "code",
      "source": [
        "df['weekly_self_study_hours'] = df['weekly_self_study_hours'].fillna(df['weekly_self_study_hours'].mean())\n"
      ],
      "metadata": {
        "id": "TpLaugGPiXjG"
      },
      "execution_count": null,
      "outputs": []
    },
    {
      "cell_type": "code",
      "source": [
        "df.info()"
      ],
      "metadata": {
        "id": "vW-pZvqbiaU1"
      },
      "execution_count": null,
      "outputs": []
    },
    {
      "cell_type": "code",
      "execution_count": null,
      "metadata": {
        "id": "cCSEXt3cBWfh"
      },
      "outputs": [],
      "source": [
        "df.head()"
      ]
    },
    {
      "cell_type": "code",
      "execution_count": null,
      "metadata": {
        "id": "IZ5gM31xBYLk"
      },
      "outputs": [],
      "source": [
        "df.tail()"
      ]
    },
    {
      "cell_type": "code",
      "execution_count": null,
      "metadata": {
        "id": "O9upfNntBZ9x"
      },
      "outputs": [],
      "source": [
        "df.sample(5)"
      ]
    },
    {
      "cell_type": "code",
      "execution_count": null,
      "metadata": {
        "id": "ss4mJ1DXBbvE"
      },
      "outputs": [],
      "source": [
        "df.isnull().sum()"
      ]
    },
    {
      "cell_type": "markdown",
      "source": [
        "to drop rows\n",
        "df = df.dropna(subset=['math_score'])\n",
        "\n",
        "fill values with mean/median/mode\n",
        "df['weekly_self_study_hours'].fillna(df['weekly_self_study_hours'].median(), inplace=True)\n",
        "df['career_aspiration'].fillna(df['career_aspiration'].mode()[0], inplace=True)\n"
      ],
      "metadata": {
        "id": "aDCJ4P6Zf1vT"
      }
    },
    {
      "cell_type": "code",
      "execution_count": null,
      "metadata": {
        "id": "AZVWDM7sBfuv"
      },
      "outputs": [],
      "source": [
        "df.describe()"
      ]
    },
    {
      "cell_type": "markdown",
      "source": [
        "insights\n",
        "--> math-score median(50%)is 87 which is higher than mean so student with low score pulling average down\n",
        "\n",
        "\n",
        "-->mean and mean and median are nearly identical symmetrical distribution of study habits"
      ],
      "metadata": {
        "id": "j9DQ73Dd_HyO"
      }
    },
    {
      "cell_type": "code",
      "execution_count": null,
      "metadata": {
        "id": "iInFbEs-Bw3M"
      },
      "outputs": [],
      "source": [
        "df.duplicated().sum()"
      ]
    },
    {
      "cell_type": "markdown",
      "source": [
        "Since there is no duplicates if duplicates are present then we have to drop it\n",
        "\n"
      ],
      "metadata": {
        "id": "0D3KMJR4V3F8"
      }
    },
    {
      "cell_type": "code",
      "source": [
        "df.select_dtypes(include=['int64', 'float64']).corr()\n"
      ],
      "metadata": {
        "id": "1qr-UsqvjxGi"
      },
      "execution_count": null,
      "outputs": []
    },
    {
      "cell_type": "markdown",
      "source": [
        "corr can be found only between numerical data\n"
      ],
      "metadata": {
        "id": "roTvPQKYkfBd"
      }
    },
    {
      "cell_type": "markdown",
      "source": [
        "Key Insights :-\n",
        "-->The dataset has records for 2000 students with 17 features\n",
        "-->zero duplicate rows, which indicates good data quality.\n",
        "-->Several columns have missing data\n",
        "-->some column requres changing data type\n",
        "\n"
      ],
      "metadata": {
        "id": "mHRCrV2a6hcr"
      }
    },
    {
      "cell_type": "markdown",
      "source": [
        "we can also detect and drop irrelevant columns"
      ],
      "metadata": {
        "id": "NwLw18K_gVCb"
      }
    },
    {
      "cell_type": "code",
      "execution_count": null,
      "metadata": {
        "id": "lXBPIaddhaeo"
      },
      "outputs": [],
      "source": [
        "#univariate analysis"
      ]
    },
    {
      "cell_type": "markdown",
      "source": [
        "Categorical Columns analysis"
      ],
      "metadata": {
        "id": "3wrs7G8pKJpX"
      }
    },
    {
      "cell_type": "markdown",
      "source": [],
      "metadata": {
        "id": "bn4ksn7FILQj"
      }
    },
    {
      "cell_type": "code",
      "source": [
        "#Categorical cols are:-\n",
        "#gender\n",
        "#extracurricular_activities\n",
        "#career_aspiration\n",
        "#part_time_job"
      ],
      "metadata": {
        "id": "oTv6UZZEK29E"
      },
      "execution_count": null,
      "outputs": []
    },
    {
      "cell_type": "code",
      "execution_count": null,
      "metadata": {
        "id": "kH2MZp3hiEhk"
      },
      "outputs": [],
      "source": [
        "#gender\n",
        "df[\"gender\"].value_counts()"
      ]
    },
    {
      "cell_type": "code",
      "execution_count": null,
      "metadata": {
        "id": "-leBsRKEja8m"
      },
      "outputs": [],
      "source": [
        "#plotting after count\n",
        "df[\"gender\"].value_counts().plot(kind='bar').grid()"
      ]
    },
    {
      "cell_type": "code",
      "execution_count": null,
      "metadata": {
        "id": "NLApSy7bjubD"
      },
      "outputs": [],
      "source": [
        "#using sns\n",
        "sns.countplot(x=\"gender\", data=df, palette=\"Set1\").grid()\n"
      ]
    },
    {
      "cell_type": "markdown",
      "source": [
        "insight\n",
        "-->gender distribution is nearly perfect"
      ],
      "metadata": {
        "id": "vVHsrGk3LbIc"
      }
    },
    {
      "cell_type": "code",
      "execution_count": null,
      "metadata": {
        "id": "rHuXB0RTlLCw"
      },
      "outputs": [],
      "source": [
        "df[\"part_time_job\"].value_counts()"
      ]
    },
    {
      "cell_type": "code",
      "execution_count": null,
      "metadata": {
        "id": "QtaK6Rfzk64j"
      },
      "outputs": [],
      "source": [
        "\n",
        "sns.countplot(x=\"part_time_job\", data=df, palette=\"Set1\").grid()"
      ]
    },
    {
      "cell_type": "code",
      "execution_count": null,
      "metadata": {
        "id": "cjKvQSXwlDun"
      },
      "outputs": [],
      "source": [
        "df[\"extracurricular_activities\"].value_counts()\n"
      ]
    },
    {
      "cell_type": "code",
      "execution_count": null,
      "metadata": {
        "id": "BuDB1nOWlwYp"
      },
      "outputs": [],
      "source": [
        "sns.countplot(x=\"extracurricular_activities\", data=df, palette=\"Set3\")"
      ]
    },
    {
      "cell_type": "code",
      "execution_count": null,
      "metadata": {
        "id": "JmXgjTxrmKdS"
      },
      "outputs": [],
      "source": [
        "df[\"career_aspiration\"].value_counts()"
      ]
    },
    {
      "cell_type": "code",
      "execution_count": null,
      "metadata": {
        "id": "QtAba7dDmSTk"
      },
      "outputs": [],
      "source": [
        "sns.countplot(x=\"career_aspiration\", data=df, palette=\"Set1\")\n",
        "plt.xticks(rotation=74)"
      ]
    },
    {
      "cell_type": "markdown",
      "source": [
        "insights\n",
        "-->most popular career paths are clearly in Software Engineer and business Owner."
      ],
      "metadata": {
        "id": "AR8_xOFTMfKt"
      }
    },
    {
      "cell_type": "code",
      "execution_count": null,
      "metadata": {
        "id": "qs8wXK2nmVDY"
      },
      "outputs": [],
      "source": [
        "df[\"gender\"].value_counts().plot(kind='pie',autopct='%.2f')"
      ]
    },
    {
      "cell_type": "code",
      "execution_count": null,
      "metadata": {
        "id": "YX3EFrNXnxjw"
      },
      "outputs": [],
      "source": [
        "df[\"part_time_job\"].value_counts().plot(kind='pie',autopct='%.2f')"
      ]
    },
    {
      "cell_type": "code",
      "execution_count": null,
      "metadata": {
        "id": "wjsWYcc3n1Bg"
      },
      "outputs": [],
      "source": [
        "df[\"extracurricular_activities\"].value_counts().plot(kind='pie',autopct='%.2f')"
      ]
    },
    {
      "cell_type": "code",
      "execution_count": null,
      "metadata": {
        "id": "j2Goa_BzoC_I"
      },
      "outputs": [],
      "source": [
        "df[\"career_aspiration\"].value_counts().plot(kind='pie',autopct='%.2f')"
      ]
    },
    {
      "cell_type": "code",
      "execution_count": null,
      "metadata": {
        "id": "Q8VpvS_QoJxi"
      },
      "outputs": [],
      "source": [
        "#numerical\n"
      ]
    },
    {
      "cell_type": "code",
      "execution_count": null,
      "metadata": {
        "id": "S9fgEDbYoa4F"
      },
      "outputs": [],
      "source": [
        "# Subject scores (value counts)\n",
        "df[\"math_score\"].value_counts()\n",
        "df[\"history_score\"].value_counts()\n",
        "df[\"physics_score\"].value_counts()\n",
        "df[\"chemistry_score\"].value_counts()\n",
        "df[\"biology_score\"].value_counts()\n",
        "df[\"english_score\"].value_counts()\n",
        "df[\"geography_score\"].value_counts()\n"
      ]
    },
    {
      "cell_type": "markdown",
      "source": [
        "value count does not have any sense here"
      ],
      "metadata": {
        "id": "dyuRjiDCNTrz"
      }
    },
    {
      "cell_type": "code",
      "execution_count": null,
      "metadata": {
        "id": "BwGki2-OFBOy"
      },
      "outputs": [],
      "source": [
        "# Absence Days\n",
        "plt.hist(df[\"absence_days\"],  color='skyblue', edgecolor='black')\n",
        "plt.title(\"Absence Days Distribution\")\n",
        "plt.xlabel(\"Absence Days\")\n",
        "plt.ylabel(\"Frequency\")\n",
        "plt.show()\n"
      ]
    },
    {
      "cell_type": "markdown",
      "source": [
        "insights\n",
        "--> this shows that most student are absent for less than 4 days as also shown in df.describe() that median(50%) is 3"
      ],
      "metadata": {
        "id": "GgL3PLx2O8AO"
      }
    },
    {
      "cell_type": "code",
      "execution_count": null,
      "metadata": {
        "id": "piCNGH3QFYtr"
      },
      "outputs": [],
      "source": [
        "# Weekly Self Study Hours\n",
        "plt.hist(df[\"weekly_self_study_hours\"],  color='lightgreen', edgecolor='black')\n",
        "plt.title(\"Weekly Self Study Hours Distribution\")\n",
        "plt.xlabel(\"Study Hours\")\n",
        "plt.ylabel(\"Frequency\")\n",
        "plt.show()"
      ]
    },
    {
      "cell_type": "markdown",
      "source": [
        "insights\n",
        "--> not so much idea about distribution as it is not uniform\n",
        "-->only few students study more than 35 hr"
      ],
      "metadata": {
        "id": "wKaVSgfQPiUU"
      }
    },
    {
      "cell_type": "code",
      "execution_count": null,
      "metadata": {
        "id": "t8Kbp1iiFn9b"
      },
      "outputs": [],
      "source": [
        "sns.histplot(df[\"math_score\"],color='orange',kde=True,edgecolor='black')\n",
        "plt.title(\"Math Score Distribution\")\n",
        "plt.xlabel(\"Math Score\")\n",
        "plt.ylabel(\"Frequency\")\n",
        "plt.show()"
      ]
    },
    {
      "cell_type": "markdown",
      "source": [
        "insights\n",
        "--> this shows that most student are good in maths as approx more than 85 per are good math"
      ],
      "metadata": {
        "id": "ykdZcsZuQXRq"
      }
    },
    {
      "cell_type": "code",
      "execution_count": null,
      "metadata": {
        "id": "mg8tBcCdF4x6"
      },
      "outputs": [],
      "source": [
        "sns.histplot(df[\"history_score\"], color='purple', kde=True,edgecolor='black')\n",
        "plt.title(\"History Score Distribution\")\n",
        "plt.xlabel(\"History Score\")\n",
        "plt.ylabel(\"Frequency\")\n",
        "plt.show()"
      ]
    },
    {
      "cell_type": "code",
      "execution_count": null,
      "metadata": {
        "id": "cy-Owr8xF_Ms"
      },
      "outputs": [],
      "source": [
        "# Physics Score\n",
        "sns.histplot(df[\"physics_score\"], color='red',kde=True, edgecolor='black')\n",
        "plt.title(\"Physics Score Distribution\")\n",
        "plt.xlabel(\"Physics Score\")\n",
        "plt.ylabel(\"Frequency\")\n",
        "plt.show()"
      ]
    },
    {
      "cell_type": "code",
      "execution_count": null,
      "metadata": {
        "id": "XYezZKkhGD7A"
      },
      "outputs": [],
      "source": [
        "# Chemistry Score\n",
        "sns.histplot(df[\"chemistry_score\"], color='blue', kde=True,edgecolor='black')\n",
        "plt.title(\"Chemistry Score Distribution\")\n",
        "plt.xlabel(\"Chemistry Score\")\n",
        "plt.ylabel(\"Frequency\")\n",
        "plt.show()"
      ]
    },
    {
      "cell_type": "code",
      "execution_count": null,
      "metadata": {
        "id": "295zcD-BGFvs"
      },
      "outputs": [],
      "source": [
        "# Biology Score\n",
        "sns.histplot(df[\"biology_score\"], color='blue', kde=True,edgecolor='yellow')\n",
        "plt.title(\"Biology Score Distribution\")\n",
        "plt.xlabel(\"Biology Score\")\n",
        "plt.ylabel(\"Frequency\")\n",
        "plt.show()"
      ]
    },
    {
      "cell_type": "code",
      "execution_count": null,
      "metadata": {
        "id": "2d4TisX8GHag"
      },
      "outputs": [],
      "source": [
        "# English Score\n",
        "sns.histplot(df[\"english_score\"], color='gold', kde=True)\n",
        "plt.title(\"English Score Distribution\")\n",
        "plt.xlabel(\"English Score\")\n",
        "plt.ylabel(\"Frequency\")\n",
        "plt.show()"
      ]
    },
    {
      "cell_type": "code",
      "execution_count": null,
      "metadata": {
        "id": "vSiSOR4AGJGG"
      },
      "outputs": [],
      "source": [
        "# Geography Score\n",
        "sns.histplot(df[\"geography_score\"], color='brown',kde=True, edgecolor='black')\n",
        "plt.title(\"Geography Score Distribution\")\n",
        "plt.xlabel(\"Geography Score\")\n",
        "plt.ylabel(\"Frequency\")\n",
        "plt.show()"
      ]
    },
    {
      "cell_type": "markdown",
      "metadata": {
        "id": "-E8-1tPcGT5S"
      },
      "source": [
        "  Distplot"
      ]
    },
    {
      "cell_type": "code",
      "execution_count": null,
      "metadata": {
        "id": "IeixVU9oIAfp"
      },
      "outputs": [],
      "source": [
        "sns.displot(df[\"math_score\"],  kde=True, color=\"skyblue\")"
      ]
    },
    {
      "cell_type": "markdown",
      "metadata": {
        "id": "LImQjmmpLkpQ"
      },
      "source": [
        "Boxplot"
      ]
    },
    {
      "cell_type": "code",
      "execution_count": null,
      "metadata": {
        "id": "7YbocJrsLCkz"
      },
      "outputs": [],
      "source": [
        "plt.boxplot(df[\"biology_score\"])"
      ]
    },
    {
      "cell_type": "markdown",
      "source": [
        "insights\n",
        "--> bio score high with some under performing outliers\n",
        "--. median score is high 81 represnted by orange line"
      ],
      "metadata": {
        "id": "56hmRSFDU330"
      }
    },
    {
      "cell_type": "code",
      "execution_count": null,
      "metadata": {
        "id": "XQqhBowHMNbk"
      },
      "outputs": [],
      "source": [
        "plt.boxplot(df[\"math_score\"])"
      ]
    },
    {
      "cell_type": "markdown",
      "metadata": {
        "id": "uCvzAUy8M4x1"
      },
      "source": [
        "calculate mean,median,max,st"
      ]
    },
    {
      "cell_type": "code",
      "execution_count": null,
      "metadata": {
        "id": "0QBuukM3Mgs4"
      },
      "outputs": [],
      "source": [
        "df[\"physics_score\"].mean()"
      ]
    },
    {
      "cell_type": "code",
      "execution_count": null,
      "metadata": {
        "id": "zUrh5wH4NEWM"
      },
      "outputs": [],
      "source": [
        "df[\"physics_score\"].median()\n"
      ]
    },
    {
      "cell_type": "code",
      "execution_count": null,
      "metadata": {
        "id": "o2z9o7bNNTbJ"
      },
      "outputs": [],
      "source": [
        "df[\"physics_score\"].mode()\n"
      ]
    },
    {
      "cell_type": "code",
      "execution_count": null,
      "metadata": {
        "id": "iWg3mrytNTXH"
      },
      "outputs": [],
      "source": [
        "df[\"physics_score\"].min()\n",
        "df[\"physics_score\"].max()\n"
      ]
    },
    {
      "cell_type": "code",
      "execution_count": null,
      "metadata": {
        "id": "gtdC3HVtNTUj"
      },
      "outputs": [],
      "source": [
        "df[\"physics_score\"].std()\n",
        "df[\"physics_score\"].var()\n"
      ]
    },
    {
      "cell_type": "code",
      "execution_count": null,
      "metadata": {
        "id": "ULDVdCmfNTRT"
      },
      "outputs": [],
      "source": [
        "df[\"physics_score\"].count()\n",
        "df[\"physics_score\"].isnull().sum()\n"
      ]
    },
    {
      "cell_type": "code",
      "execution_count": null,
      "metadata": {
        "id": "qH1Wb0qzNeR8"
      },
      "outputs": [],
      "source": [
        "df[\"math_score\"].skew()"
      ]
    },
    {
      "cell_type": "code",
      "execution_count": null,
      "metadata": {
        "id": "NbJ5if6JO6Gf"
      },
      "outputs": [],
      "source": [
        "#bivariate anlysis"
      ]
    },
    {
      "cell_type": "code",
      "execution_count": null,
      "metadata": {
        "id": "GlE92zxroFbs"
      },
      "outputs": [],
      "source": [
        "df.head()"
      ]
    },
    {
      "cell_type": "markdown",
      "metadata": {
        "id": "FHeiAirEowl2"
      },
      "source": [
        "numerical vs numerical\n"
      ]
    },
    {
      "cell_type": "code",
      "execution_count": null,
      "metadata": {
        "collapsed": true,
        "id": "oM5vVynGoH1u"
      },
      "outputs": [],
      "source": [
        "#Scatterplot\n",
        "sns.scatterplot(x=\"math_score\", y=\"physics_score\", data=df)"
      ]
    },
    {
      "cell_type": "markdown",
      "source": [
        "insights:-\n",
        "\n",
        "marks vs marks doent make any sense as\n",
        "plot is misleading because it shows you a single dot, even when there might be 20 students at that exact spot."
      ],
      "metadata": {
        "id": "nfgs9FqtLfFk"
      }
    },
    {
      "cell_type": "code",
      "execution_count": null,
      "metadata": {
        "collapsed": true,
        "id": "INDCKJyfqCf9"
      },
      "outputs": [],
      "source": [
        "sns.scatterplot(x=\"weekly_self_study_hours\", y=\"biology_score\", data=df)"
      ]
    },
    {
      "cell_type": "markdown",
      "source": [
        "insights:-\n",
        "-->some students less no of study hours like 0-5 hr score is maximum\n",
        "also for some student more study hour greter than study score is same\n",
        "-->quality and efficiency of studying is more important"
      ],
      "metadata": {
        "id": "DAQS2GjuMeDr"
      }
    },
    {
      "cell_type": "code",
      "execution_count": null,
      "metadata": {
        "collapsed": true,
        "id": "PrUR7pKXqPDn"
      },
      "outputs": [],
      "source": [
        "sns.scatterplot(x=\"absence_days\", y=\"math_score\", data=df)"
      ]
    },
    {
      "cell_type": "markdown",
      "source": [
        "insights:-\n",
        "--> as some students with 10 absent days able to score full\n",
        "\n",
        "-->some with 0 absent not able to score full\n",
        "\n",
        "-->top performers is unaffected\n",
        "\n",
        "-->impact on lower scores as lowest score for 0 absent is 55 but for 6 days it is 40 approx\n",
        "  "
      ],
      "metadata": {
        "id": "GH66ksWUNVT7"
      }
    },
    {
      "cell_type": "code",
      "execution_count": null,
      "metadata": {
        "id": "XNBxsQkIqagA"
      },
      "outputs": [],
      "source": [
        "df[[\"weekly_self_study_hours\",\"biology_score\"]].corr()\n"
      ]
    },
    {
      "cell_type": "markdown",
      "source": [
        "insights:-\n",
        "-->this shows a postivie correlation\n",
        "as between both and on increasing weekly_self_study_hours biologyscore increase\n",
        "\n",
        "-->but value is 0.19 which is colse to zero so relationship is negligible"
      ],
      "metadata": {
        "id": "SzbtCJE3OlSm"
      }
    },
    {
      "cell_type": "code",
      "execution_count": null,
      "metadata": {
        "id": "Ksi080R_r3-M"
      },
      "outputs": [],
      "source": [
        "df[[\"weekly_self_study_hours\",\"math_score\"]].corr()"
      ]
    },
    {
      "cell_type": "markdown",
      "source": [
        "insights:-\n",
        "-->there is positive correlation as increation weekly hours can increase your math score"
      ],
      "metadata": {
        "id": "deaNj2gTPj2p"
      }
    },
    {
      "cell_type": "code",
      "execution_count": null,
      "metadata": {
        "collapsed": true,
        "id": "wbECC_uFsLpj"
      },
      "outputs": [],
      "source": [
        "plt.figure(figsize=(6,4))\n",
        "sns.regplot(\n",
        "    x=\"weekly_self_study_hours\",\n",
        "    y=\"math_score\",\n",
        "    data=df,\n",
        "    scatter_kws={'color':'blue'},\n",
        "    line_kws={'color':'red'}\n",
        ")\n",
        "plt.xlabel(\"Weekly Self-Study Hours\")\n",
        "plt.ylabel(\"Math Score\")\n",
        "plt.title(\"Weekly Self-Study Hours vs Math Score\")\n",
        "plt.show()"
      ]
    },
    {
      "cell_type": "markdown",
      "source": [
        "insights:-\n",
        "\n",
        "-->as red line shows that studing more is equals to more maths score\n",
        "\n",
        "-->>but blue dot show that study hours doesnt predict the marks"
      ],
      "metadata": {
        "id": "tuXU1NGqQ7zS"
      }
    },
    {
      "cell_type": "code",
      "execution_count": null,
      "metadata": {
        "id": "MIEAwoKzshlV"
      },
      "outputs": [],
      "source": [
        "df[[\"absence_days\",\"math_score\"]].corr()"
      ]
    },
    {
      "cell_type": "markdown",
      "source": [
        "insights :-\n",
        "--> this shows negative correlation as absence days increase math score decrease"
      ],
      "metadata": {
        "id": "koaJZS8cR_zl"
      }
    },
    {
      "cell_type": "code",
      "execution_count": null,
      "metadata": {
        "collapsed": true,
        "id": "lxdg4bCTtbwS"
      },
      "outputs": [],
      "source": [
        "sns.regplot(x=\"absence_days\", y=\"math_score\", data=df,scatter_kws={'color':'blue'},\n",
        "    line_kws={'color':'red'})"
      ]
    },
    {
      "cell_type": "code",
      "execution_count": null,
      "metadata": {
        "collapsed": true,
        "id": "Q0wul5c5tuvf"
      },
      "outputs": [],
      "source": [
        "sns.scatterplot(x=\"absence_days\", y=\"math_score\", data=df)"
      ]
    },
    {
      "cell_type": "code",
      "execution_count": null,
      "metadata": {
        "id": "5bLpG0QUwJdK"
      },
      "outputs": [],
      "source": [
        "df.head(\n",
        "\n",
        ")"
      ]
    },
    {
      "cell_type": "markdown",
      "source": [
        "#Multivariate analysis"
      ],
      "metadata": {
        "id": "QsqAfYziSlHj"
      }
    },
    {
      "cell_type": "code",
      "execution_count": null,
      "metadata": {
        "collapsed": true,
        "id": "L6nVmN8lw9Yz"
      },
      "outputs": [],
      "source": [
        "sns.scatterplot(x=\"absence_days\", y=\"math_score\", data=df,hue=df[\"gender\"])"
      ]
    },
    {
      "cell_type": "markdown",
      "source": [
        "insights:-\n",
        "\n",
        "--> as shown gender doesnot affect either abence days or math score\n",
        "-->both male and female able to score full marks even after absent in lectures"
      ],
      "metadata": {
        "id": "ELwAvETtTI1q"
      }
    },
    {
      "cell_type": "code",
      "execution_count": null,
      "metadata": {
        "collapsed": true,
        "id": "NgSGTZ3pxDqp"
      },
      "outputs": [],
      "source": [
        "sns.scatterplot(x=\"absence_days\", y=\"math_score\", data=df,hue=df[\"part_time_job\"])"
      ]
    },
    {
      "cell_type": "code",
      "execution_count": null,
      "metadata": {
        "collapsed": true,
        "id": "WK20vxYYxUAn"
      },
      "outputs": [],
      "source": [
        "sns.scatterplot(x=\"absence_days\", y=\"math_score\", data=df,hue=df[\"extracurricular_activities\"])"
      ]
    },
    {
      "cell_type": "code",
      "execution_count": null,
      "metadata": {
        "collapsed": true,
        "id": "TISA7dNxxapU"
      },
      "outputs": [],
      "source": [
        "sns.scatterplot(x=\"absence_days\", y=\"math_score\", data=df,hue=df[\"gender\"],style=df[\"part_time_job\"])"
      ]
    },
    {
      "cell_type": "markdown",
      "source": [
        "insights:-\n",
        "\n",
        "-->student with part time job vs no part time job doesnt affect maths score as much but student without job are somehow scoreing more marks"
      ],
      "metadata": {
        "id": "5bFgkuxbUULN"
      }
    },
    {
      "cell_type": "code",
      "execution_count": null,
      "metadata": {
        "collapsed": true,
        "id": "_UGIreUqxqy3"
      },
      "outputs": [],
      "source": [
        "sns.scatterplot(x=\"absence_days\", y=\"math_score\", data=df,hue=df[\"gender\"],style=df[\"extracurricular_activities\"],size=\"part_time_job\")"
      ]
    },
    {
      "cell_type": "markdown",
      "source": [
        "insights:-\n",
        "-->This plot reveals that weak relationship between student attendece and maths score\n",
        "-->a student's gender, part-time job status, or extracurriculars does not significantly change this underlying trend.\n"
      ],
      "metadata": {
        "id": "hkWamfEQVcte"
      }
    },
    {
      "cell_type": "code",
      "execution_count": null,
      "metadata": {
        "collapsed": true,
        "id": "ddmT7thlx0jl"
      },
      "outputs": [],
      "source": [
        "sns.barplot(x=\"career_aspiration\", y=\"math_score\", data=df)\n",
        "plt.xticks(rotation=84)\n"
      ]
    },
    {
      "cell_type": "markdown",
      "source": [
        "insights-:\n",
        "\n",
        "-->maths score (acedemic strengths )vs carrier path chosen\n",
        "\n",
        "-->doctor and software engineers are good at maths\n",
        "\n",
        "-->while bussness owner and some other are weak at maths"
      ],
      "metadata": {
        "id": "Mfrv1-1vWltb"
      }
    },
    {
      "cell_type": "code",
      "execution_count": null,
      "metadata": {
        "collapsed": true,
        "id": "PR-6NjNGzrSq"
      },
      "outputs": [],
      "source": [
        "sns.barplot(x=\"career_aspiration\", y=\"biology_score\", data=df)\n",
        "plt.xticks(rotation=84)\n"
      ]
    },
    {
      "cell_type": "code",
      "execution_count": null,
      "metadata": {
        "collapsed": true,
        "id": "dRAm_gw30OQp"
      },
      "outputs": [],
      "source": [
        "sns.barplot(x=\"gender\",y=\"math_score\",data=df)"
      ]
    },
    {
      "cell_type": "code",
      "execution_count": null,
      "metadata": {
        "collapsed": true,
        "id": "YcLTLzwq00aO"
      },
      "outputs": [],
      "source": [
        "sns.barplot(x=\"extracurricular_activities\",y=\"math_score\",hue=\"gender\",data=df).grid()"
      ]
    },
    {
      "cell_type": "markdown",
      "source": [
        "insights:-\n",
        "--> this shows that male gender is slightly good at maths\n",
        "\n",
        "--> student with extracircular activities score slightly good marks than without circular"
      ],
      "metadata": {
        "id": "qnco0zUEXj_s"
      }
    },
    {
      "cell_type": "code",
      "execution_count": null,
      "metadata": {
        "collapsed": true,
        "id": "hg77UdIy1eki"
      },
      "outputs": [],
      "source": [
        "df['extracurricular_activities'].value_counts()"
      ]
    },
    {
      "cell_type": "code",
      "execution_count": null,
      "metadata": {
        "collapsed": true,
        "id": "-qV7j7Zz2Gps"
      },
      "outputs": [],
      "source": [
        "sns.boxplot(x=\"extracurricular_activities\", y=\"math_score\", data=df)"
      ]
    },
    {
      "cell_type": "code",
      "execution_count": null,
      "metadata": {
        "collapsed": true,
        "id": "Osv2WI7O3iGR"
      },
      "outputs": [],
      "source": [
        "sns.boxplot(x='career_aspiration', y='english_score', data=df)\n",
        "plt.xticks(rotation=84)"
      ]
    },
    {
      "cell_type": "code",
      "execution_count": null,
      "metadata": {
        "collapsed": true,
        "id": "WMYkIIqV5IwS"
      },
      "outputs": [],
      "source": [
        "sns.boxplot(x='part_time_job', y='weekly_self_study_hours', data=df,hue='gender')"
      ]
    },
    {
      "cell_type": "markdown",
      "source": [
        "insights:-\n",
        "\n",
        "--> male study more in a week than female with or without part time job\n",
        "that is why male scored more marks in maths than female\n",
        "\n",
        "-->for both gender part time job reduces the study hour in a week"
      ],
      "metadata": {
        "id": "p4RCSzDZZL9Y"
      }
    },
    {
      "cell_type": "code",
      "execution_count": null,
      "metadata": {
        "collapsed": true,
        "id": "8etf2y5U5cwt"
      },
      "outputs": [],
      "source": [
        "sns.boxplot(x='gender', y='physics_score', data=df)"
      ]
    },
    {
      "cell_type": "code",
      "execution_count": null,
      "metadata": {
        "collapsed": true,
        "id": "_1auSUrl5pe_"
      },
      "outputs": [],
      "source": [
        "pd.crosstab(df[\"gender\"],df[\"part_time_job\"])"
      ]
    },
    {
      "cell_type": "code",
      "execution_count": null,
      "metadata": {
        "collapsed": true,
        "id": "REmqmq1j-Db0"
      },
      "outputs": [],
      "source": [
        "sns.heatmap(pd.crosstab(df[\"gender\"],df[\"part_time_job\"]))"
      ]
    },
    {
      "cell_type": "markdown",
      "source": [
        "insights:-\n",
        "\n",
        "--> most student have no part time job\n",
        "\n",
        "-->both male and female have approx similar amount of part time job"
      ],
      "metadata": {
        "id": "1asSZMDlbQxM"
      }
    },
    {
      "cell_type": "code",
      "execution_count": null,
      "metadata": {
        "id": "nMzxw0mq-a1x"
      },
      "outputs": [],
      "source": [
        "pd.crosstab(df[\"gender\"],df[\"career_aspiration\"])"
      ]
    },
    {
      "cell_type": "code",
      "execution_count": null,
      "metadata": {
        "id": "6-PCJFV2-sAp"
      },
      "outputs": [],
      "source": [
        "sns.heatmap(pd.crosstab(df[\"gender\"],df[\"career_aspiration\"]))"
      ]
    },
    {
      "cell_type": "code",
      "execution_count": null,
      "metadata": {
        "id": "tA9GwBd6-vVQ"
      },
      "outputs": [],
      "source": [
        "pd.crosstab(df[\"extracurricular_activities\"],df[\"part_time_job\"])"
      ]
    },
    {
      "cell_type": "code",
      "execution_count": null,
      "metadata": {
        "id": "iAAk2YId_Zm7"
      },
      "outputs": [],
      "source": [
        "sns.heatmap(pd.crosstab(df[\"extracurricular_activities\"],df[\"part_time_job\"]))"
      ]
    },
    {
      "cell_type": "code",
      "execution_count": null,
      "metadata": {
        "id": "kvH5ro10_iLY"
      },
      "outputs": [],
      "source": [
        "# Install ydata-profiling (updated pandas-profiling)\n",
        "!pip install ydata-profiling\n",
        "\n",
        "# Import libraries\n",
        "import pandas as pd\n",
        "from ydata_profiling import ProfileReport\n",
        "\n",
        "# Load your CSV file\n",
        "df = pd.read_csv(\"/content/student-scoreswith null (1).csv\")\n",
        "\n",
        "\n"
      ]
    },
    {
      "cell_type": "code",
      "execution_count": null,
      "metadata": {
        "id": "jtOTrjXtAlRH"
      },
      "outputs": [],
      "source": [
        "# Generate profile report\n",
        "profile = ProfileReport(df, title=\"Student Scores Profiling Report\", explorative=True)\n",
        "\n",
        "# Show inside Colab\n",
        "profile.to_notebook_iframe()"
      ]
    },
    {
      "cell_type": "code",
      "execution_count": null,
      "metadata": {
        "id": "uUz4RuxjBJCO"
      },
      "outputs": [],
      "source": []
    }
  ],
  "metadata": {
    "colab": {
      "provenance": [],
      "authorship_tag": "ABX9TyN2+SJWqupdYFOc8sORA2gu",
      "include_colab_link": true
    },
    "kernelspec": {
      "display_name": "Python 3",
      "name": "python3"
    },
    "language_info": {
      "name": "python"
    }
  },
  "nbformat": 4,
  "nbformat_minor": 0
}